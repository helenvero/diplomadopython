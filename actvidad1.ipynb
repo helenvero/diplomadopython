{
 "cells": [
  {
   "cell_type": "markdown",
   "metadata": {},
   "source": [
    "### Actividad 2:\n",
    "\n",
    "Bibliotecas\n",
    "\n"
   ]
  },
  {
   "cell_type": "code",
   "execution_count": 5,
   "metadata": {},
   "outputs": [],
   "source": [
    "import pandas as pd"
   ]
  },
  {
   "cell_type": "markdown",
   "metadata": {},
   "source": [
    "Visualizar los datos"
   ]
  },
  {
   "cell_type": "code",
   "execution_count": 4,
   "metadata": {},
   "outputs": [
    {
     "name": "stdout",
     "output_type": "stream",
     "text": [
      "       ID        Nombre         2016          2017 Crecimiento Unidades  \\\n",
      "0   10002     Verde Mar  $125,000.00    $162500.00      30.00%      500   \n",
      "1  552278  Manantial sa  $920,000.00  $101,2000.00      10.00%      700   \n",
      "2   23477          ACME   $50,000.00      62500.00      25.00%      125   \n",
      "3   24900     Andes sur  $350,000.00     490000.00       4.00%       75   \n",
      "4  651029     San Pablo   $15,000.00     $12750.00     -15.00%       No   \n",
      "\n",
      "        fecha  Activo  \n",
      "0   1-10-2015       1  \n",
      "1   6-23-2014       0  \n",
      "2   3-12-2016       1  \n",
      "3  10-28-2015       1  \n",
      "4   2-15-2014       0  \n",
      "ID                      int32\n",
      "Nombre               category\n",
      "2016                  float64\n",
      "2017                  float64\n",
      "Crecimiento           float64\n",
      "Unidades                int32\n",
      "fecha          datetime64[ns]\n",
      "Activo                   bool\n",
      "dtype: object\n"
     ]
    }
   ],
   "source": [
    "def cargar_dataset(ruta_dataset: str) -> pd.DataFrame:\n",
    "    df = pd.read_csv(ruta_dataset)\n",
    "    print(df.head())\n",
    "    return df\n",
    "\n",
    "ruta = 'ejemplo_data.csv'\n",
    "df = cargar_dataset(ruta)\n",
    "df['ID'] = df['ID'].astype(int)\n",
    "df['Nombre'] = df['Activo'].astype('category')\n",
    "df['Activo'] = df['Activo'].astype(bool)\n",
    "df['2016'] = df['2016'].replace({'\\$': '', ',': ''}, regex=True).astype(float)\n",
    "df['2017'] = df['2017'].replace({'\\$': '', ',': ''}, regex=True).astype(float)\n",
    "df['Crecimiento'] = df['Crecimiento'].replace({'\\%': '', ',': ''}, regex=True).astype(float)\n",
    "df['Unidades'] = pd.to_numeric(df['Unidades'], errors='coerce').fillna(2).astype(int)\n",
    "df['fecha'] = pd.to_datetime(df['fecha'], format='%m-%d-%Y')\n",
    "\n",
    "print(df.dtypes)"
   ]
  }
 ],
 "metadata": {
  "kernelspec": {
   "display_name": "Python 3",
   "language": "python",
   "name": "python3"
  },
  "language_info": {
   "codemirror_mode": {
    "name": "ipython",
    "version": 3
   },
   "file_extension": ".py",
   "mimetype": "text/x-python",
   "name": "python",
   "nbconvert_exporter": "python",
   "pygments_lexer": "ipython3",
   "version": "3.7.1"
  }
 },
 "nbformat": 4,
 "nbformat_minor": 2
}
